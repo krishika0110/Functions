{
  "nbformat": 4,
  "nbformat_minor": 0,
  "metadata": {
    "colab": {
      "provenance": []
    },
    "kernelspec": {
      "name": "python3",
      "display_name": "Python 3"
    },
    "language_info": {
      "name": "python"
    }
  },
  "cells": [
    {
      "cell_type": "code",
      "execution_count": 2,
      "metadata": {
        "id": "Fj8qpEdnjA-p"
      },
      "outputs": [],
      "source": [
        "#1 - What is the difference between a function and a method in Python?\n",
        "  #  They both are reusable code but the difference lies in classes and\n",
        "  #  objects.\n",
        "\n",
        "#2 - Explain the concept of function arguments and parameters in Python.\n",
        "  #  Parameters are defined within a parenthesis inside a function'\n",
        "  #  definition.\n",
        "  #  Arguments are actual values that is called in a function.\n",
        "\n",
        "#3 - What are the different ways to define and call a function in Python?\n",
        "  #  Function is called by def keyword.\n",
        "\n",
        "#4 - What is the purpose of the `return` statement in a Python function?\n",
        "  #  Return statement is used to exit a function and return the value.\n",
        "\n",
        "#5 - What are iterators in Python and how do they differ from iterables?\n",
        "  #  Iterators are used to go through the elements one at a time.\n",
        "\n",
        "#6 - Explain the concept of generators in Python and how they are defined.\n",
        "  #  Generators are used to execute the bigger codes and they take up less\n",
        "  #  memory space and done with yield keyword.\n",
        "\n",
        "#7 - What are the advantages of using generators over regular functions?\n",
        "  #  Generators execute bigger codes faster in comparison to regular\n",
        "  #  function.\n",
        "\n",
        "#8 - What is a lambda function in Python and when is it typically used?\n",
        "  #  Lambda function can take any number of arguments and it is restricted\n",
        "  #  to a single expression.They are small, anonymous function.\n",
        "\n",
        "#9 - Explain the purpose and usage of the `map()` function in Python.\n",
        "  #  It is used to transform data without using explicit loops.\n",
        "\n",
        "#10 - What is the difference between `map()`, `reduce()`, and `filter()`\n",
        "   #  functions in Python?\n",
        "   #  Map() function appies a given function in an iterable and returns\n",
        "   #  a new iterable containing the results.\n",
        "   #  Result aggregates elements into a single result.\n",
        "   #  Filter selescts elements based on a condition.\n",
        "\n",
        "#11 - Using pen & Paper write the internal mechanism for sum operation using\n",
        "   #  reduce function on this given list:[47,11,42,13].\n",
        "   #  reduce(add, [47, 11, 42, 13])\n",
        "   #  add(47, 11)  -> 58\n",
        "   #  add(58, 42)  -> 100\n",
        "   #  add(100, 13) -> 113\n"
      ]
    },
    {
      "cell_type": "code",
      "source": [
        "#1 - Write a Python function that takes a list of numbers as input and returns the sum of all even numbers in the list.\n",
        "\n",
        "def even_numbers(numbers):\n",
        "  even_numbers = 0\n",
        "  for number in numbers:\n",
        "       if number % 2 == 0:\n",
        "         even_number += numbers\n",
        "         return even_numbers"
      ],
      "metadata": {
        "id": "2M1QoQH0jG2_"
      },
      "execution_count": 6,
      "outputs": []
    },
    {
      "cell_type": "code",
      "source": [
        "#2 - Create a Python function that accepts a string and returns the reverse of that string.\n",
        "def reverse_string(input_string):\n",
        "  return input_string[::-1]\n"
      ],
      "metadata": {
        "id": "hvJD5jDo0cpK"
      },
      "execution_count": 9,
      "outputs": []
    },
    {
      "cell_type": "code",
      "source": [
        "#3 - Implement a Python function that takes a list of integers and returns a new list containing the squares of\n",
        "   # each number.\n",
        "def square_numbers(numbers):\n",
        "  return[x ** 2 for x in numbers]"
      ],
      "metadata": {
        "id": "QCKnLUzs1D79"
      },
      "execution_count": 10,
      "outputs": []
    },
    {
      "cell_type": "code",
      "source": [
        "#4 - Write a Python function that checks if a given number is prime or not from 1 to 200.\n",
        "import math\n",
        "def is_prime(number):\n",
        "  if number <= 1:\n",
        "    return False\n",
        "  if number == 2:\n",
        "    return True\n",
        "  if number % 2 == 0:\n",
        "    return False"
      ],
      "metadata": {
        "id": "dG5V57M61mEv"
      },
      "execution_count": 12,
      "outputs": []
    },
    {
      "cell_type": "code",
      "source": [
        "#5 - Create an iterator class in Python that generates the Fibonacci sequence up to a specified number of\n",
        "   # terms.\n",
        "class FibonacciIterator:\n",
        "    def __init__(self, terms):\n",
        "        if not isinstance(terms, int) or terms < 0:\n",
        "            raise ValueError\n",
        "        self._terms = terms\n",
        "        self._current_term = 0\n",
        "        self._a, self._b = 0, 1\n",
        "\n",
        "    def __iter__(self):\n",
        "        return self\n",
        "\n",
        "    def __next__(self):\n",
        "        if self._current_term >= self._terms:\n",
        "            raise StopIteration\n",
        "\n",
        "        if self._current_term == 0:\n",
        "            self._current_term += 1\n",
        "            return 0\n",
        "        elif self._current_term == 1:\n",
        "            self._current_term += 1\n",
        "            return 1\n",
        "        else:\n",
        "            next_fib = self._a + self._b\n",
        "            self._a = self._b\n",
        "            self._b = next_fib\n",
        "            self._current_term += 1\n",
        "            return next_fib"
      ],
      "metadata": {
        "id": "SKafU7wr2fCL"
      },
      "execution_count": 13,
      "outputs": []
    },
    {
      "cell_type": "code",
      "source": [
        "#6 - Write a generator function in Python that yields the powers of 2 up to a given exponent.\n",
        "def power(numbers):\n",
        "  for exponent in range(numbers):\n",
        "    yield 2 ** exponent"
      ],
      "metadata": {
        "id": "4kSLnkpw2_jg"
      },
      "execution_count": 14,
      "outputs": []
    },
    {
      "cell_type": "code",
      "source": [
        "#7 - Implement a generator function that reads a file line by line and yields each line as a string.\n",
        "with open(\"example.txt\", \"w\") as f:\n",
        "    f.write(\"This is line 1.\\n\")\n",
        "    f.write(\"This is line 2.\\n\")\n",
        "    f.write(\"This is line 3.\\n\")\n"
      ],
      "metadata": {
        "id": "i8m3hd4Z3eq-"
      },
      "execution_count": 19,
      "outputs": []
    },
    {
      "cell_type": "code",
      "source": [
        "#8 - Use a lambda function in Python to sort a list of tuples based on the second element of each tuple.\n",
        "data = [(1,'hi'),(2,'hello'),(3,'bye')]\n",
        "sorted_data = sorted(data, key = lambda x: x[1])\n",
        "print(sorted_data)"
      ],
      "metadata": {
        "colab": {
          "base_uri": "https://localhost:8080/"
        },
        "id": "AiCaXQmK4Cma",
        "outputId": "1501aa94-9122-43eb-a464-9c325991be20"
      },
      "execution_count": 20,
      "outputs": [
        {
          "output_type": "stream",
          "name": "stdout",
          "text": [
            "[(3, 'bye'), (2, 'hello'), (1, 'hi')]\n"
          ]
        }
      ]
    },
    {
      "cell_type": "code",
      "source": [
        "#9 -  Write a Python program that uses `map()` to convert a list of temperatures from Celsius to Fahrenheit.\n",
        "def celsius_to_fahrenheit(celsius):\n",
        "  return (celsius * 9/5) + 32\n",
        "celsius_temperatures = [0, 10, 20, 30, 37.5, 100]\n",
        "fahrenheit_temperatures = map(celsius_to_fahrenheit, celsius_temperatures)\n",
        "fahrenheit_list = list(fahrenheit_temperatures)\n",
        "\n",
        "print(f\"Celsius temperatures: {celsius_temperatures}\")\n",
        "print(f\"Fahrenheit temperatures: {fahrenheit_list}\")"
      ],
      "metadata": {
        "colab": {
          "base_uri": "https://localhost:8080/"
        },
        "id": "nlKsNWAl471M",
        "outputId": "fefed271-666b-4154-af4c-4b48b0a76bd1"
      },
      "execution_count": 21,
      "outputs": [
        {
          "output_type": "stream",
          "name": "stdout",
          "text": [
            "Celsius temperatures: [0, 10, 20, 30, 37.5, 100]\n",
            "Fahrenheit temperatures: [32.0, 50.0, 68.0, 86.0, 99.5, 212.0]\n"
          ]
        }
      ]
    },
    {
      "cell_type": "code",
      "source": [
        "#10 -  Create a Python program that uses `filter()` to remove all the vowels from a given string.\n",
        "test_string = \"Hello World! This is a Test String.\"\n",
        "string_without_vowels = remove_vowels_from_string(test_string)\n",
        "print(f\"Original string: {test_string}\")\n",
        "print(f\"String without vowels: {string_without_vowels}\")\n"
      ],
      "metadata": {
        "colab": {
          "base_uri": "https://localhost:8080/",
          "height": 218
        },
        "id": "b3zerBm35Uzp",
        "outputId": "21355129-c86b-4889-a999-c51d805b4d1a"
      },
      "execution_count": 28,
      "outputs": [
        {
          "output_type": "error",
          "ename": "NameError",
          "evalue": "name 'remove_vowels_from_string' is not defined",
          "traceback": [
            "\u001b[0;31m---------------------------------------------------------------------------\u001b[0m",
            "\u001b[0;31mNameError\u001b[0m                                 Traceback (most recent call last)",
            "\u001b[0;32m/tmp/ipython-input-1763752134.py\u001b[0m in \u001b[0;36m<cell line: 0>\u001b[0;34m()\u001b[0m\n\u001b[1;32m      1\u001b[0m \u001b[0;31m#10 -  Create a Python program that uses `filter()` to remove all the vowels from a given string.\u001b[0m\u001b[0;34m\u001b[0m\u001b[0;34m\u001b[0m\u001b[0m\n\u001b[1;32m      2\u001b[0m \u001b[0mtest_string\u001b[0m \u001b[0;34m=\u001b[0m \u001b[0;34m\"Hello World! This is a Test String.\"\u001b[0m\u001b[0;34m\u001b[0m\u001b[0;34m\u001b[0m\u001b[0m\n\u001b[0;32m----> 3\u001b[0;31m \u001b[0mstring_without_vowels\u001b[0m \u001b[0;34m=\u001b[0m \u001b[0mremove_vowels_from_string\u001b[0m\u001b[0;34m(\u001b[0m\u001b[0mtest_string\u001b[0m\u001b[0;34m)\u001b[0m\u001b[0;34m\u001b[0m\u001b[0;34m\u001b[0m\u001b[0m\n\u001b[0m\u001b[1;32m      4\u001b[0m \u001b[0mprint\u001b[0m\u001b[0;34m(\u001b[0m\u001b[0;34mf\"Original string: {test_string}\"\u001b[0m\u001b[0;34m)\u001b[0m\u001b[0;34m\u001b[0m\u001b[0;34m\u001b[0m\u001b[0m\n\u001b[1;32m      5\u001b[0m \u001b[0mprint\u001b[0m\u001b[0;34m(\u001b[0m\u001b[0;34mf\"String without vowels: {string_without_vowels}\"\u001b[0m\u001b[0;34m)\u001b[0m\u001b[0;34m\u001b[0m\u001b[0;34m\u001b[0m\u001b[0m\n",
            "\u001b[0;31mNameError\u001b[0m: name 'remove_vowels_from_string' is not defined"
          ]
        }
      ]
    },
    {
      "cell_type": "code",
      "source": [
        "#11 - Imagine an accounting routine used in a book shop. It works on a list with sublists, which look like this:\n",
        "orders_data = [\n",
        "    [34587,\"Learning Python,Mark Lutz\", 4 , 40.95],\n",
        "    [98762,\"Programming Python,Mark Lutz\", 5 , 56.80],\n",
        "    [77226,\"Head First Python,PaulBerry\", 3 , 32.95],\n",
        "    [881122,\"Einfuhrung in Python3, Bernd Klein\", 3 , 24.99]\n",
        "]\n",
        "result = list(map(lambda order:(order[0],(order[2]*order[3]) + 10 if (order[2] * order[3]) < 100 else (order[2]*order[3])), orders_data))\n",
        "print(result)\n",
        ""
      ],
      "metadata": {
        "colab": {
          "base_uri": "https://localhost:8080/"
        },
        "id": "tyQgKjU353W2",
        "outputId": "61f2ee84-a56b-43cd-feaa-36e6c5959f45"
      },
      "execution_count": 30,
      "outputs": [
        {
          "output_type": "stream",
          "name": "stdout",
          "text": [
            "[(34587, 163.8), (98762, 284.0), (77226, 108.85000000000001), (881122, 84.97)]\n"
          ]
        }
      ]
    },
    {
      "cell_type": "code",
      "source": [],
      "metadata": {
        "id": "j4p4CAH28m-T"
      },
      "execution_count": null,
      "outputs": []
    }
  ]
}